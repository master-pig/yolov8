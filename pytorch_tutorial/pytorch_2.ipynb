{
 "cells": [
  {
   "cell_type": "code",
   "execution_count": 26,
   "id": "f855d99d-cb8c-4f9c-a7dc-904db947da48",
   "metadata": {},
   "outputs": [],
   "source": [
    "import torch"
   ]
  },
  {
   "cell_type": "code",
   "execution_count": 27,
   "id": "f9c75816-bc83-4b4a-965e-770dcaacce24",
   "metadata": {},
   "outputs": [],
   "source": [
    "x = torch.rand((2,3),dtype=torch.float64)"
   ]
  },
  {
   "cell_type": "code",
   "execution_count": 28,
   "id": "b09aa64a-4cdf-4e47-90f2-973153f12ab0",
   "metadata": {},
   "outputs": [
    {
     "name": "stdout",
     "output_type": "stream",
     "text": [
      "2\n",
      "torch.DoubleTensor\n",
      "torch.Size([2, 3])\n"
     ]
    }
   ],
   "source": [
    "print(x.size(0))\n",
    "print(x.type())\n",
    "print(x.shape)"
   ]
  },
  {
   "cell_type": "code",
   "execution_count": 29,
   "id": "f93eb099-e452-4db3-acce-7a45041f62d0",
   "metadata": {},
   "outputs": [
    {
     "name": "stdout",
     "output_type": "stream",
     "text": [
      "[[0.06279363 0.17760308 0.67674725]\n",
      " [0.90175786 0.15314153 0.51152676]]\n"
     ]
    }
   ],
   "source": [
    "X = x.numpy()\n",
    "print(X)"
   ]
  },
  {
   "cell_type": "code",
   "execution_count": 30,
   "id": "e0ba9229-bf22-438f-bc82-9fabbfb48caa",
   "metadata": {},
   "outputs": [
    {
     "name": "stdout",
     "output_type": "stream",
     "text": [
      "tensor([[0.0628, 0.1776, 0.6767],\n",
      "        [0.9018, 0.1531, 0.5115]], dtype=torch.float64)\n"
     ]
    }
   ],
   "source": [
    "y = torch.from_numpy(X)\n",
    "print(y)"
   ]
  },
  {
   "cell_type": "code",
   "execution_count": 34,
   "id": "3a1182ca-6ca3-4307-a2e9-23a947d1f012",
   "metadata": {},
   "outputs": [
    {
     "data": {
      "text/plain": [
       "tensor([[0.5023, 1.4208, 5.4140],\n",
       "        [7.2141, 1.2251, 4.0922]], dtype=torch.float64)"
      ]
     },
     "execution_count": 34,
     "metadata": {},
     "output_type": "execute_result"
    }
   ],
   "source": [
    "x+x\n",
    "x.add(x)"
   ]
  },
  {
   "cell_type": "code",
   "execution_count": 35,
   "id": "a12faf8c-03a9-446e-81ed-eafd4c94da90",
   "metadata": {},
   "outputs": [
    {
     "data": {
      "text/plain": [
       "tensor([[0.5023, 1.4208, 5.4140],\n",
       "        [7.2141, 1.2251, 4.0922]], dtype=torch.float64)"
      ]
     },
     "execution_count": 35,
     "metadata": {},
     "output_type": "execute_result"
    }
   ],
   "source": [
    "x.add_(x)"
   ]
  },
  {
   "cell_type": "code",
   "execution_count": 37,
   "id": "a9199acf-330d-412b-8c4d-723ec667dbc0",
   "metadata": {},
   "outputs": [
    {
     "name": "stdout",
     "output_type": "stream",
     "text": [
      "tensor([[0.5023, 1.4208],\n",
      "        [5.4140, 7.2141],\n",
      "        [1.2251, 4.0922]], dtype=torch.float64)\n",
      "tensor([[0.5023],\n",
      "        [1.4208],\n",
      "        [5.4140],\n",
      "        [7.2141],\n",
      "        [1.2251],\n",
      "        [4.0922]], dtype=torch.float64)\n"
     ]
    }
   ],
   "source": [
    "print(x.view(3,2))\n",
    "print(x.view(-1,1))"
   ]
  },
  {
   "cell_type": "code",
   "execution_count": 49,
   "id": "cb499f2c-a052-4879-8474-39a39a7b48f3",
   "metadata": {},
   "outputs": [
    {
     "name": "stdout",
     "output_type": "stream",
     "text": [
      "tensor(3.3114, dtype=torch.float64)\n",
      "tensor([1])\n",
      "3.3114268151557895\n",
      "1\n"
     ]
    }
   ],
   "source": [
    "print(x.mean())\n",
    "y = x.mean()\n",
    "print(torch.tensor([1]))\n",
    "print(y.item())\n",
    "print(torch.tensor([1]).item())\n",
    "#两者有什么区别"
   ]
  },
  {
   "cell_type": "code",
   "execution_count": null,
   "id": "bd4bdee5-35d2-48a5-b9d1-8e567f2b127f",
   "metadata": {},
   "outputs": [],
   "source": []
  }
 ],
 "metadata": {
  "kernelspec": {
   "display_name": "Python 3 (ipykernel)",
   "language": "python",
   "name": "python3"
  },
  "language_info": {
   "codemirror_mode": {
    "name": "ipython",
    "version": 3
   },
   "file_extension": ".py",
   "mimetype": "text/x-python",
   "name": "python",
   "nbconvert_exporter": "python",
   "pygments_lexer": "ipython3",
   "version": "3.8.18"
  }
 },
 "nbformat": 4,
 "nbformat_minor": 5
}
