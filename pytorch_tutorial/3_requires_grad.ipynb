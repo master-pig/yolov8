{
 "cells": [
  {
   "cell_type": "code",
   "execution_count": 105,
   "id": "5053a3bd-98b3-45a8-82bd-54f8e9047d71",
   "metadata": {},
   "outputs": [],
   "source": [
    "import torch"
   ]
  },
  {
   "cell_type": "code",
   "execution_count": 106,
   "id": "a4ff7535-f312-4f27-8dc9-4af479ac0754",
   "metadata": {},
   "outputs": [],
   "source": [
    "x = torch.ones(2,3,requires_grad=True)\n",
    "# y = torch.rand((2,3),requires_grad=True) 也可"
   ]
  },
  {
   "cell_type": "code",
   "execution_count": 107,
   "id": "fb96b1e5-0036-4329-9a1a-41c458096da3",
   "metadata": {},
   "outputs": [],
   "source": [
    "y = x*x+1\n",
    "z = y*y+1"
   ]
  },
  {
   "cell_type": "code",
   "execution_count": 108,
   "id": "b4188d67-64e3-4b2d-8d17-f9194ac61eec",
   "metadata": {},
   "outputs": [
    {
     "data": {
      "text/plain": [
       "(None, None)"
      ]
     },
     "execution_count": 108,
     "metadata": {},
     "output_type": "execute_result"
    }
   ],
   "source": [
    "a = x.grad_fn\n",
    "b = x.grad\n",
    "a,b"
   ]
  },
  {
   "cell_type": "code",
   "execution_count": 109,
   "id": "3a54f26a-1ff6-4f2f-ae1d-177e2b842f62",
   "metadata": {},
   "outputs": [
    {
     "data": {
      "text/plain": [
       "(<AddBackward0 at 0x1ed4a0d1d00>, tensor(5., grad_fn=<MeanBackward0>))"
      ]
     },
     "execution_count": 109,
     "metadata": {},
     "output_type": "execute_result"
    }
   ],
   "source": [
    "c = z.grad_fn\n",
    "d = z.mean()\n",
    "#d = z.mean().item() AttributeError: 'float' object has no attribute 'backward'\n",
    "\n",
    "c,d"
   ]
  },
  {
   "cell_type": "code",
   "execution_count": 110,
   "id": "1c518966-d989-4d66-b77d-95759e77c3fd",
   "metadata": {},
   "outputs": [],
   "source": [
    "d.backward()"
   ]
  },
  {
   "cell_type": "code",
   "execution_count": 111,
   "id": "55e31cdc-1268-40be-af43-b7bee8e83867",
   "metadata": {},
   "outputs": [
    {
     "data": {
      "text/plain": [
       "tensor([[1.3333, 1.3333, 1.3333],\n",
       "        [1.3333, 1.3333, 1.3333]])"
      ]
     },
     "execution_count": 111,
     "metadata": {},
     "output_type": "execute_result"
    }
   ],
   "source": [
    "x.grad # y.grad不可以"
   ]
  },
  {
   "cell_type": "code",
   "execution_count": 112,
   "id": "536f958c-217e-4f66-9c7a-0f19fdd715a9",
   "metadata": {},
   "outputs": [
    {
     "name": "stdout",
     "output_type": "stream",
     "text": [
      "False\n"
     ]
    }
   ],
   "source": [
    "with torch.no_grad():\n",
    "    m = x*x\n",
    "    print(m.requires_grad)"
   ]
  },
  {
   "cell_type": "code",
   "execution_count": 104,
   "id": "22408cef-64f2-49b8-957c-bbc16486b6dd",
   "metadata": {},
   "outputs": [
    {
     "name": "stdout",
     "output_type": "stream",
     "text": [
      "False\n",
      "True\n",
      "False\n"
     ]
    }
   ],
   "source": [
    "x = torch.ones(2,3)\n",
    "print(x.requires_grad)\n",
    "x.requires_grad_(True)\n",
    "print(x.requires_grad)\n",
    "x = x.detach()\n",
    "print(x.requires_grad)"
   ]
  }
 ],
 "metadata": {
  "kernelspec": {
   "display_name": "Python 3 (ipykernel)",
   "language": "python",
   "name": "python3"
  },
  "language_info": {
   "codemirror_mode": {
    "name": "ipython",
    "version": 3
   },
   "file_extension": ".py",
   "mimetype": "text/x-python",
   "name": "python",
   "nbconvert_exporter": "python",
   "pygments_lexer": "ipython3",
   "version": "3.8.18"
  }
 },
 "nbformat": 4,
 "nbformat_minor": 5
}
